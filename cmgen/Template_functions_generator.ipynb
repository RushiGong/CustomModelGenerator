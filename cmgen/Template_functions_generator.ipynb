{
 "cells": [
  {
   "cell_type": "markdown",
   "metadata": {},
   "source": [
    "## Extract functions from exsisting models"
   ]
  },
  {
   "cell_type": "code",
   "execution_count": 76,
   "metadata": {},
   "outputs": [],
   "source": [
    "import ast\n",
    "import json\n",
    "\n",
    "def extract_functions(file_path):\n",
    "    with open(file_path, 'r') as file:\n",
    "        code = file.read()\n",
    "\n",
    "    # Parse the code into an abstract syntax tree (AST)\n",
    "    parsed_code = ast.parse(code)\n",
    "\n",
    "    # Extract functions and their content\n",
    "    functions = []\n",
    "    for node in ast.walk(parsed_code):\n",
    "        if isinstance(node, ast.FunctionDef):\n",
    "            function_name = node.name\n",
    "            function_content = ast.get_source_segment(code, node)\n",
    "            functions.append({'name': function_name, 'content': '\\n    '+function_content})\n",
    "\n",
    "    return functions\n",
    "\n",
    "# Replace 'your_file.py' with the path to your Python file\n",
    "file_path = 'CEF_model_template.py'\n",
    "\n",
    "# Extract functions and their content\n",
    "functions = extract_functions(file_path)\n",
    "\n",
    "# Create a dictionary to store the functions\n",
    "functions_dict = {'functions': functions}\n",
    "\n",
    "# Convert the dictionary to a JSON string\n",
    "json_string = json.dumps(functions_dict, indent=4)\n",
    "\n",
    "# Write the JSON string to a file\n",
    "with open('functions.json', 'w') as json_file:\n",
    "    json_file.write(json_string)\n"
   ]
  },
  {
   "cell_type": "code",
   "execution_count": null,
   "metadata": {},
   "outputs": [],
   "source": []
  }
 ],
 "metadata": {
  "kernelspec": {
   "display_name": "Python 3 (ipykernel)",
   "language": "python",
   "name": "python3"
  },
  "language_info": {
   "codemirror_mode": {
    "name": "ipython",
    "version": 3
   },
   "file_extension": ".py",
   "mimetype": "text/x-python",
   "name": "python",
   "nbconvert_exporter": "python",
   "pygments_lexer": "ipython3",
   "version": "3.9.16"
  }
 },
 "nbformat": 4,
 "nbformat_minor": 5
}
